{
  "nbformat": 4,
  "nbformat_minor": 0,
  "metadata": {
    "colab": {
      "name": "CNN.ipynb",
      "provenance": [],
      "collapsed_sections": []
    },
    "kernelspec": {
      "name": "python3",
      "display_name": "Python 3"
    },
    "language_info": {
      "name": "python"
    }
  },
  "cells": [
    {
      "cell_type": "code",
      "metadata": {
        "colab": {
          "base_uri": "https://localhost:8080/",
          "height": 0
        },
        "id": "TwsX0ErtqwNW",
        "outputId": "7680777d-44b0-4753-d9f0-e2a90fb2215f"
      },
      "source": [
        "!pip install keras-tuner\n"
      ],
      "execution_count": 33,
      "outputs": [
        {
          "output_type": "stream",
          "text": [
            "Requirement already satisfied: keras-tuner in /usr/local/lib/python3.7/dist-packages (1.0.2)\n",
            "Requirement already satisfied: scikit-learn in /usr/local/lib/python3.7/dist-packages (from keras-tuner) (0.22.2.post1)\n",
            "Requirement already satisfied: future in /usr/local/lib/python3.7/dist-packages (from keras-tuner) (0.16.0)\n",
            "Requirement already satisfied: packaging in /usr/local/lib/python3.7/dist-packages (from keras-tuner) (20.9)\n",
            "Requirement already satisfied: scipy in /usr/local/lib/python3.7/dist-packages (from keras-tuner) (1.4.1)\n",
            "Requirement already satisfied: numpy in /usr/local/lib/python3.7/dist-packages (from keras-tuner) (1.19.5)\n",
            "Requirement already satisfied: tabulate in /usr/local/lib/python3.7/dist-packages (from keras-tuner) (0.8.9)\n",
            "Requirement already satisfied: colorama in /usr/local/lib/python3.7/dist-packages (from keras-tuner) (0.4.4)\n",
            "Requirement already satisfied: requests in /usr/local/lib/python3.7/dist-packages (from keras-tuner) (2.23.0)\n",
            "Requirement already satisfied: terminaltables in /usr/local/lib/python3.7/dist-packages (from keras-tuner) (3.1.0)\n",
            "Requirement already satisfied: tqdm in /usr/local/lib/python3.7/dist-packages (from keras-tuner) (4.41.1)\n",
            "Requirement already satisfied: joblib>=0.11 in /usr/local/lib/python3.7/dist-packages (from scikit-learn->keras-tuner) (1.0.1)\n",
            "Requirement already satisfied: pyparsing>=2.0.2 in /usr/local/lib/python3.7/dist-packages (from packaging->keras-tuner) (2.4.7)\n",
            "Requirement already satisfied: chardet<4,>=3.0.2 in /usr/local/lib/python3.7/dist-packages (from requests->keras-tuner) (3.0.4)\n",
            "Requirement already satisfied: certifi>=2017.4.17 in /usr/local/lib/python3.7/dist-packages (from requests->keras-tuner) (2020.12.5)\n",
            "Requirement already satisfied: idna<3,>=2.5 in /usr/local/lib/python3.7/dist-packages (from requests->keras-tuner) (2.10)\n",
            "Requirement already satisfied: urllib3!=1.25.0,!=1.25.1,<1.26,>=1.21.1 in /usr/local/lib/python3.7/dist-packages (from requests->keras-tuner) (1.24.3)\n"
          ],
          "name": "stdout"
        }
      ]
    },
    {
      "cell_type": "markdown",
      "metadata": {
        "id": "6CaqFadPrWaI"
      },
      "source": [
        "### **Importing required Libraries**"
      ]
    },
    {
      "cell_type": "code",
      "metadata": {
        "id": "pvWUk5emq6hy"
      },
      "source": [
        "import tensorflow as tf\n",
        "from tensorflow import keras\n",
        "import numpy as np\n"
      ],
      "execution_count": null,
      "outputs": []
    },
    {
      "cell_type": "markdown",
      "metadata": {
        "id": "UXpS5wFRrc1g"
      },
      "source": [
        "### **Importing the dataset**"
      ]
    },
    {
      "cell_type": "code",
      "metadata": {
        "id": "z5ObUeR3rSNA"
      },
      "source": [
        "fashion_mist = keras.datasets.fashion_mnist"
      ],
      "execution_count": null,
      "outputs": []
    },
    {
      "cell_type": "code",
      "metadata": {
        "colab": {
          "base_uri": "https://localhost:8080/"
        },
        "id": "UI3OGgkBsRt4",
        "outputId": "c70e8f83-3c80-4545-a2c3-73321284e740"
      },
      "source": [
        "(train_images,train_labels),(test_images,test_labels) = fashion_mist.load_data()"
      ],
      "execution_count": null,
      "outputs": [
        {
          "output_type": "stream",
          "text": [
            "Downloading data from https://storage.googleapis.com/tensorflow/tf-keras-datasets/train-labels-idx1-ubyte.gz\n",
            "32768/29515 [=================================] - 0s 0us/step\n",
            "Downloading data from https://storage.googleapis.com/tensorflow/tf-keras-datasets/train-images-idx3-ubyte.gz\n",
            "26427392/26421880 [==============================] - 0s 0us/step\n",
            "Downloading data from https://storage.googleapis.com/tensorflow/tf-keras-datasets/t10k-labels-idx1-ubyte.gz\n",
            "8192/5148 [===============================================] - 0s 0us/step\n",
            "Downloading data from https://storage.googleapis.com/tensorflow/tf-keras-datasets/t10k-images-idx3-ubyte.gz\n",
            "4423680/4422102 [==============================] - 0s 0us/step\n"
          ],
          "name": "stdout"
        }
      ]
    },
    {
      "cell_type": "markdown",
      "metadata": {
        "id": "8zsmW9gMs09X"
      },
      "source": [
        "### **Scaling the image down**"
      ]
    },
    {
      "cell_type": "code",
      "metadata": {
        "id": "enS_XBlVs0Wf"
      },
      "source": [
        "train_images = train_images /255.0\n",
        "test_images = test_images /255.0"
      ],
      "execution_count": null,
      "outputs": []
    },
    {
      "cell_type": "code",
      "metadata": {
        "colab": {
          "base_uri": "https://localhost:8080/"
        },
        "id": "EC4Uzzmtsrp_",
        "outputId": "77673a7f-470e-460d-cf22-77f4d496c8e6"
      },
      "source": [
        "train_images[0].shape     #Checking the shape"
      ],
      "execution_count": null,
      "outputs": [
        {
          "output_type": "execute_result",
          "data": {
            "text/plain": [
              "(28, 28)"
            ]
          },
          "metadata": {
            "tags": []
          },
          "execution_count": 6
        }
      ]
    },
    {
      "cell_type": "markdown",
      "metadata": {
        "id": "8Fg9z6y2tX8_"
      },
      "source": [
        "### **Reshaping the image as a proper 3D image**"
      ]
    },
    {
      "cell_type": "code",
      "metadata": {
        "id": "-uuRAgzvtc8P"
      },
      "source": [
        "train_images = train_images.reshape(len(train_images),28,28,1)\n",
        "test_images = test_images.reshape(len(test_images),28,28,1)"
      ],
      "execution_count": null,
      "outputs": []
    },
    {
      "cell_type": "markdown",
      "metadata": {
        "id": "hoWd7Th_t33O"
      },
      "source": [
        "## **Model Building**"
      ]
    },
    {
      "cell_type": "code",
      "metadata": {
        "id": "BRhgYDect3cf"
      },
      "source": [
        "def build_model(hp):\n",
        "  model = keras.Sequential([\n",
        "        keras.layers.Conv2D(\n",
        "            filters = hp.Int('conv_1_filter', min_value = 32, max_value = 128, step = 16),\n",
        "            kernel_size = hp.Choice('conv_1_kernel', values =[3,5]),\n",
        "            activation ='relu',\n",
        "            input_shape =(28,28,1)        \n",
        "          ),\n",
        "          keras.layers.Conv2D(\n",
        "            filters = hp.Int('conv_2_filter', min_value = 32, max_value = 64, step = 16),\n",
        "            kernel_size = hp.Choice('conv_2_kernel', values =[3,5]),\n",
        "            activation ='relu',    \n",
        "          ),\n",
        "          keras.layers.Flatten(),\n",
        "          keras.layers.Dense(\n",
        "              units = hp.Int('dense_1_units', min_value = 32, max_value = 128, step = 16),\n",
        "              activation = 'relu'\n",
        "          ),\n",
        "          keras.layers.Dense(10, activation= 'softmax') # Output Layer\n",
        "  ])\n",
        "\n",
        "  model.compile(optimizer = keras.optimizers.Adam(hp.Choice('learning_rate', values= [1e-2,1e-3])),\n",
        "      loss = 'sparse_categorical_crossentropy',\n",
        "      metrics = ['accuracy'])\n",
        "  return model"
      ],
      "execution_count": null,
      "outputs": []
    },
    {
      "cell_type": "markdown",
      "metadata": {
        "id": "nvsRpEnG-YSk"
      },
      "source": [
        "### **Importing HyperParameter Engine**"
      ]
    },
    {
      "cell_type": "code",
      "metadata": {
        "id": "HXt4Vf0S-mM6"
      },
      "source": [
        "from kerastuner import RandomSearch\n",
        "from kerastuner.engine.hyperparameters import HyperParameters"
      ],
      "execution_count": null,
      "outputs": []
    },
    {
      "cell_type": "code",
      "metadata": {
        "id": "aW0FoGm2-1lP"
      },
      "source": [
        "tuner_search = RandomSearch(build_model,\n",
        "                            objective = 'val_accuracy',\n",
        "                            max_trials = 5, directory = 'output', project_name = \"Mnist Fashion\")"
      ],
      "execution_count": null,
      "outputs": []
    },
    {
      "cell_type": "markdown",
      "metadata": {
        "id": "olG6sqkGAFnp"
      },
      "source": [
        "## **Training the Model**"
      ]
    },
    {
      "cell_type": "code",
      "metadata": {
        "colab": {
          "base_uri": "https://localhost:8080/"
        },
        "id": "-2EC4fSA_ZJT",
        "outputId": "4d6de207-c573-4c39-a4d2-7d09c1f70f73"
      },
      "source": [
        "tuner_search.search(train_images,train_labels,epochs =3, validation_split =0.1)"
      ],
      "execution_count": null,
      "outputs": [
        {
          "output_type": "stream",
          "text": [
            "Trial 6 Complete [00h 07m 17s]\n",
            "val_accuracy: 0.9088333249092102\n",
            "\n",
            "Best val_accuracy So Far: 0.9101666808128357\n",
            "Total elapsed time: 01h 23m 22s\n",
            "INFO:tensorflow:Oracle triggered exit\n"
          ],
          "name": "stdout"
        }
      ]
    },
    {
      "cell_type": "code",
      "metadata": {
        "id": "RcxF7tpsAlf9"
      },
      "source": [
        "model = tuner_search.get_best_models(num_models=1)[0]"
      ],
      "execution_count": null,
      "outputs": []
    },
    {
      "cell_type": "markdown",
      "metadata": {
        "id": "rqIP2o90kzrK"
      },
      "source": [
        "## **Displaying the Result**"
      ]
    },
    {
      "cell_type": "code",
      "metadata": {
        "colab": {
          "base_uri": "https://localhost:8080/"
        },
        "id": "2LZq8FkGAzJ8",
        "outputId": "05c07791-5912-4092-c998-3c0ae0870519"
      },
      "source": [
        "model.summary()"
      ],
      "execution_count": null,
      "outputs": [
        {
          "output_type": "stream",
          "text": [
            "Model: \"sequential\"\n",
            "_________________________________________________________________\n",
            "Layer (type)                 Output Shape              Param #   \n",
            "=================================================================\n",
            "conv2d (Conv2D)              (None, 24, 24, 96)        2496      \n",
            "_________________________________________________________________\n",
            "conv2d_1 (Conv2D)            (None, 20, 20, 48)        115248    \n",
            "_________________________________________________________________\n",
            "flatten (Flatten)            (None, 19200)             0         \n",
            "_________________________________________________________________\n",
            "dense (Dense)                (None, 112)               2150512   \n",
            "_________________________________________________________________\n",
            "dense_1 (Dense)              (None, 10)                1130      \n",
            "=================================================================\n",
            "Total params: 2,269,386\n",
            "Trainable params: 2,269,386\n",
            "Non-trainable params: 0\n",
            "_________________________________________________________________\n"
          ],
          "name": "stdout"
        }
      ]
    }
  ]
}